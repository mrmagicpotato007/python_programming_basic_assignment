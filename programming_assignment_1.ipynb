{
  "nbformat": 4,
  "nbformat_minor": 0,
  "metadata": {
    "colab": {
      "name": "programming_assignment_1",
      "provenance": []
    },
    "kernelspec": {
      "name": "python3",
      "display_name": "Python 3"
    },
    "language_info": {
      "name": "python"
    }
  },
  "cells": [
    {
      "cell_type": "code",
      "metadata": {
        "id": "1IH-SvCNRgAR"
      },
      "source": [
        "1)print(\"Hello Python\")\n"
      ],
      "execution_count": null,
      "outputs": []
    },
    {
      "cell_type": "code",
      "metadata": {
        "colab": {
          "base_uri": "https://localhost:8080/"
        },
        "id": "iYOi8tJfTUlS",
        "outputId": "32ab06a4-7d58-433d-ab29-e5b8f1d82feb"
      },
      "source": [
        "def add(a,b):\n",
        "  return a+b\n",
        "def div(a,b):\n",
        "  return a/b;\n",
        "\n",
        "\n",
        "print(add(3,5))\n",
        "print(div(3,5))"
      ],
      "execution_count": null,
      "outputs": [
        {
          "output_type": "stream",
          "text": [
            "8\n",
            "0.6\n"
          ],
          "name": "stdout"
        }
      ]
    },
    {
      "cell_type": "code",
      "metadata": {
        "id": "CeC27SQHUEZH"
      },
      "source": [
        "def area(base,h):\n",
        "  return 1/2*(base)*(height)\n",
        "\n"
      ],
      "execution_count": null,
      "outputs": []
    },
    {
      "cell_type": "code",
      "metadata": {
        "id": "ZTTxa_jUUTyt"
      },
      "source": [
        "def s(a,b):\n",
        "  a,b=b,a\n"
      ],
      "execution_count": null,
      "outputs": []
    },
    {
      "cell_type": "code",
      "metadata": {
        "colab": {
          "base_uri": "https://localhost:8080/"
        },
        "id": "bV06AWcKUbhy",
        "outputId": "1928a98f-dcce-4a8f-d7ae-caf249eca410"
      },
      "source": [
        "import random\n",
        "print(random.randint(1,100))"
      ],
      "execution_count": null,
      "outputs": [
        {
          "output_type": "stream",
          "text": [
            "62\n"
          ],
          "name": "stdout"
        }
      ]
    }
  ]
}