{
  "nbformat": 4,
  "nbformat_minor": 0,
  "metadata": {
    "colab": {
      "name": "programming_basic_asignment_5",
      "provenance": [],
      "collapsed_sections": []
    },
    "kernelspec": {
      "name": "python3",
      "display_name": "Python 3"
    },
    "language_info": {
      "name": "python"
    }
  },
  "cells": [
    {
      "cell_type": "code",
      "metadata": {
        "colab": {
          "base_uri": "https://localhost:8080/"
        },
        "id": "wGpDgmFeOkvk",
        "outputId": "ef2cf747-3ca1-485f-b23a-2aacc5e7c18c"
      },
      "source": [
        "def lc(a,b):\n",
        "  m=max(a,b)\n",
        "  while(True):\n",
        "    if m%a==0 and m%b==0:\n",
        "      return m;\n",
        "      break\n",
        "    m+=1\n",
        "lc(12,18)"
      ],
      "execution_count": null,
      "outputs": [
        {
          "output_type": "execute_result",
          "data": {
            "text/plain": [
              "36"
            ]
          },
          "metadata": {
            "tags": []
          },
          "execution_count": 3
        }
      ]
    },
    {
      "cell_type": "code",
      "metadata": {
        "colab": {
          "base_uri": "https://localhost:8080/"
        },
        "id": "BmQWwS7CQuPd",
        "outputId": "5f8c0674-4305-4cce-b25b-17bfeb5d3927"
      },
      "source": [
        "a=int(input(\"enter 1st number\"))\n",
        "b=int(input(\"enter second number\"))\n",
        "print(\"Hcf is:\")\n",
        "print((a*b)//lc(a,b))"
      ],
      "execution_count": null,
      "outputs": [
        {
          "output_type": "stream",
          "text": [
            "enter 1st number12\n",
            "enter second number18\n",
            "Hcf is:\n",
            "6\n"
          ],
          "name": "stdout"
        }
      ]
    },
    {
      "cell_type": "code",
      "metadata": {
        "colab": {
          "base_uri": "https://localhost:8080/"
        },
        "id": "QVitlQTORpwc",
        "outputId": "46c403bb-d3f9-4202-a764-e3065ea93b47"
      },
      "source": [
        "i=int(input(\"enter the number\"))\n",
        "print(bin(i)[2:])\n",
        "print(oct(i)[2:])\n",
        "print(hex(i)[2:])"
      ],
      "execution_count": null,
      "outputs": [
        {
          "output_type": "stream",
          "text": [
            "enter the number10\n",
            "1010\n",
            "12\n",
            "a\n"
          ],
          "name": "stdout"
        }
      ]
    },
    {
      "cell_type": "code",
      "metadata": {
        "colab": {
          "base_uri": "https://localhost:8080/"
        },
        "id": "5ilsPRtsUZxn",
        "outputId": "d8f72a92-1116-4230-9a3a-6e98f993e8da"
      },
      "source": [
        "c=input(\"enter the charecter :\")\n",
        "print(ord(c[0]))\n",
        "print(chr(47))"
      ],
      "execution_count": null,
      "outputs": [
        {
          "output_type": "stream",
          "text": [
            "enter the charecter :a\n",
            "97\n",
            "/\n"
          ],
          "name": "stdout"
        }
      ]
    },
    {
      "cell_type": "code",
      "metadata": {
        "id": "xzBC4LE1Vu1b"
      },
      "source": [
        "class c:\n",
        "  def __init__(self,a,b):\n",
        "    self.a=a\n",
        "    self.b=b\n",
        "  def pl(self):\n",
        "    print(self.a+self.b)\n",
        "  def sb(self):\n",
        "    print(self.a-self.b)\n",
        "  def mut(self):\n",
        "    print(self.a*self.b)\n",
        "  def di(self):\n",
        "    print(self.a//self.b)\n"
      ],
      "execution_count": null,
      "outputs": []
    },
    {
      "cell_type": "code",
      "metadata": {
        "colab": {
          "base_uri": "https://localhost:8080/"
        },
        "id": "Z_y5JCWlXKx5",
        "outputId": "c000f7d4-4187-482d-dd92-bcc5a0927aea"
      },
      "source": [
        "ob=c(5,1)\n",
        "print(ob.a)\n",
        "print(ob.b)\n",
        "ob.pl()"
      ],
      "execution_count": null,
      "outputs": [
        {
          "output_type": "stream",
          "text": [
            "5\n",
            "1\n",
            "6\n"
          ],
          "name": "stdout"
        }
      ]
    }
  ]
}