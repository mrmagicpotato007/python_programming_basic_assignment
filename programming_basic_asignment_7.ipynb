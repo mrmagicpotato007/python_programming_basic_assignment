{
  "nbformat": 4,
  "nbformat_minor": 0,
  "metadata": {
    "colab": {
      "name": "programming_basic_asignment_7",
      "provenance": []
    },
    "kernelspec": {
      "name": "python3",
      "display_name": "Python 3"
    },
    "language_info": {
      "name": "python"
    }
  },
  "cells": [
    {
      "cell_type": "code",
      "metadata": {
        "colab": {
          "base_uri": "https://localhost:8080/"
        },
        "id": "tE6S9OOnfBcl",
        "outputId": "2c25f780-3c01-4c5d-a259-7d86aa71171f"
      },
      "source": [
        "def fun1(*args):\n",
        "  sum=0\n",
        "  for i in args:\n",
        "    sum+=i\n",
        "  print(sum)\n",
        "\n",
        "fun1(1,2,3,4,5,6)"
      ],
      "execution_count": null,
      "outputs": [
        {
          "output_type": "stream",
          "text": [
            "21\n"
          ],
          "name": "stdout"
        }
      ]
    },
    {
      "cell_type": "code",
      "metadata": {
        "colab": {
          "base_uri": "https://localhost:8080/"
        },
        "id": "ugWqQ8sLgG3S",
        "outputId": "824396f4-5502-4f59-8897-8f05cb083d3a"
      },
      "source": [
        "import sys\n",
        "def fun1(*args):\n",
        "  val=(-sys.maxsize - 1)\n",
        "  for i in args:\n",
        "    val=max(val,i)\n",
        "  print(val)\n",
        "\n",
        "fun1(1,2,3,4,5,6)"
      ],
      "execution_count": null,
      "outputs": [
        {
          "output_type": "stream",
          "text": [
            "6\n"
          ],
          "name": "stdout"
        }
      ]
    },
    {
      "cell_type": "code",
      "metadata": {
        "colab": {
          "base_uri": "https://localhost:8080/"
        },
        "id": "HJwxSLSRg8Kn",
        "outputId": "1d4cd0ae-12ba-4625-de60-0f3c3c81e8ca"
      },
      "source": [
        "a=[1,2,3,4,5,6]\n",
        "(a.reverse())\n",
        "print(a)\n",
        "print(a[::-1])"
      ],
      "execution_count": null,
      "outputs": [
        {
          "output_type": "stream",
          "text": [
            "[6, 5, 4, 3, 2, 1]\n",
            "[1, 2, 3, 4, 5, 6]\n"
          ],
          "name": "stdout"
        }
      ]
    },
    {
      "cell_type": "code",
      "metadata": {
        "colab": {
          "base_uri": "https://localhost:8080/"
        },
        "id": "MOk13OfRhXQB",
        "outputId": "6997a2cc-a8bf-4cf5-f54c-44e1ea3164e0"
      },
      "source": [
        "def splitArr(a, n, k):\n",
        "  b = a[:k]\n",
        "  return (a[k:]+b)\n",
        "\t\t\n",
        "\n",
        "# main\n",
        "arr = [12, 10, 5, 6, 52, 36]\n",
        "n = len(arr)\n",
        "position = 2\n",
        "arr = splitArr(arr, n, position)\n",
        "for i in range(0, n):\n",
        "\tprint(arr[i], end = ' ')\n"
      ],
      "execution_count": null,
      "outputs": [
        {
          "output_type": "stream",
          "text": [
            "5 6 52 36 12 10 "
          ],
          "name": "stdout"
        }
      ]
    },
    {
      "cell_type": "code",
      "metadata": {
        "colab": {
          "base_uri": "https://localhost:8080/"
        },
        "id": "OWGEWjb1jAFL",
        "outputId": "80ceb060-2bd2-4791-cc8f-8227264a456c"
      },
      "source": [
        "def f(l):\n",
        "  for i in range(0,len(l)-1):\n",
        "    flag=1\n",
        "    if l[i]>l[i+1]:\n",
        "      print(\"No its not monotonic\")\n",
        "      flag=0\n",
        "      break;\n",
        "  if(flag):\n",
        "    print(\"its monotonic\")\n",
        "    \n",
        "b=[1,2,6,4]\n",
        "f(b)"
      ],
      "execution_count": null,
      "outputs": [
        {
          "output_type": "stream",
          "text": [
            "No its not monotonic\n"
          ],
          "name": "stdout"
        }
      ]
    }
  ]
}