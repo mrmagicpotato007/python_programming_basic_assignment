{
  "nbformat": 4,
  "nbformat_minor": 0,
  "metadata": {
    "colab": {
      "name": "programming_basic_asignment_8",
      "provenance": []
    },
    "kernelspec": {
      "name": "python3",
      "display_name": "Python 3"
    },
    "language_info": {
      "name": "python"
    }
  },
  "cells": [
    {
      "cell_type": "code",
      "metadata": {
        "colab": {
          "base_uri": "https://localhost:8080/"
        },
        "id": "poakgiZikXIb",
        "outputId": "c98f2840-5649-4674-87b9-cfae123452ca"
      },
      "source": [
        "def f1(a,b):\n",
        "  n=len(a);\n",
        "  m=len(a[0])\n",
        "  sum=[]\n",
        "  for i in range(n):\n",
        "    l=[]\n",
        "    for j in range(m):\n",
        "      l.append(a[i][j]+b[i][j])\n",
        "    sum.append(l)\n",
        "  print(sum)\n",
        "\n",
        "a=[[1,2,3]]\n",
        "b=[[1,2,3]]\n",
        "f1(a,b)"
      ],
      "execution_count": null,
      "outputs": [
        {
          "output_type": "stream",
          "text": [
            "[[2, 4, 6]]\n"
          ],
          "name": "stdout"
        }
      ]
    },
    {
      "cell_type": "code",
      "metadata": {
        "colab": {
          "base_uri": "https://localhost:8080/"
        },
        "id": "5kqZC4mEmyUN",
        "outputId": "74891819-4ba9-4052-b952-38bf291881e0"
      },
      "source": [
        "X = [[12,7,3],\n",
        "    [4 ,5,6],\n",
        "    [7 ,8,9]]\n",
        "# 3x4 matrix\n",
        "Y = [[5,8,1,2],\n",
        "    [6,7,3,0],\n",
        "    [4,5,9,1]]\n",
        "# result is 3x4\n",
        "result = [[0,0,0,0],\n",
        "         [0,0,0,0],\n",
        "         [0,0,0,0]]\n",
        "\n",
        "# iterate through rows of X\n",
        "for i in range(len(X)):\n",
        "   # iterate through columns of Y\n",
        "   for j in range(len(Y[0])):\n",
        "       # iterate through rows of Y\n",
        "       for k in range(len(Y)):\n",
        "           result[i][j] += X[i][k] * Y[k][j]\n",
        "\n",
        "for r in result:\n",
        "   print(r)\n"
      ],
      "execution_count": null,
      "outputs": [
        {
          "output_type": "stream",
          "text": [
            "[114, 160, 60, 27]\n",
            "[74, 97, 73, 14]\n",
            "[119, 157, 112, 23]\n"
          ],
          "name": "stdout"
        }
      ]
    },
    {
      "cell_type": "code",
      "metadata": {
        "colab": {
          "base_uri": "https://localhost:8080/"
        },
        "id": "vf9N4kk7n9JJ",
        "outputId": "8f20151f-4fc9-43f2-afba-befaaf86845e"
      },
      "source": [
        "def trans(a):\n",
        "  for i in range(len(a)):\n",
        "    for j in range(i+1):\n",
        "      a[i][j],a[j][i]=a[j][i],a[i][j]\n",
        "  print(a)\n",
        "\n",
        "a=[[1,2,3],\n",
        "   [4,5,6],\n",
        "   [7,8,9]]\n",
        "\n",
        "trans(a)\n",
        "    "
      ],
      "execution_count": null,
      "outputs": [
        {
          "output_type": "stream",
          "text": [
            "[[1, 4, 7], [2, 5, 8], [3, 6, 9]]\n"
          ],
          "name": "stdout"
        }
      ]
    },
    {
      "cell_type": "code",
      "metadata": {
        "colab": {
          "base_uri": "https://localhost:8080/"
        },
        "id": "Did4-HoKpfyQ",
        "outputId": "2d222250-b3fb-4417-e3cb-9e11e0a1b230"
      },
      "source": [
        "s=(input(\"enter the string\"))\n",
        "print(sorted(s))\n",
        "op=\"\"\n",
        "for i in sorted(s):\n",
        "  op+=i\n",
        "print(op)"
      ],
      "execution_count": null,
      "outputs": [
        {
          "output_type": "stream",
          "text": [
            "enter the stringharsha\n",
            "['a', 'a', 'h', 'h', 'r', 's']\n",
            "aahhrs\n"
          ],
          "name": "stdout"
        }
      ]
    },
    {
      "cell_type": "code",
      "metadata": {
        "id": "A6vMvYd0ppTJ"
      },
      "source": [
        "# define punctuation\n",
        "punctuations = '''!()-[]{};:'\"\\,<>./?@#$%^&*_~'''\n",
        "\n",
        "my_str = \"Hello!!!, he said ---and went.\"\n",
        "\n",
        "# To take input from the user\n",
        "# my_str = input(\"Enter a string: \")\n",
        "\n",
        "# remove punctuation from the string\n",
        "no_punct = \"\"\n",
        "for char in my_str:\n",
        "   if char not in punctuations:\n",
        "       no_punct = no_punct + char\n",
        "\n",
        "# display the unpunctuated string\n",
        "print(no_punct)\n"
      ],
      "execution_count": null,
      "outputs": []
    }
  ]
}