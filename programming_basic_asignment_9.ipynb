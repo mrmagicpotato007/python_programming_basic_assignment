{
  "nbformat": 4,
  "nbformat_minor": 0,
  "metadata": {
    "colab": {
      "name": "programming_basic_asignment_9",
      "provenance": []
    },
    "kernelspec": {
      "name": "python3",
      "display_name": "Python 3"
    },
    "language_info": {
      "name": "python"
    }
  },
  "cells": [
    {
      "cell_type": "code",
      "metadata": {
        "id": "nOYGE_eBrIg_"
      },
      "source": [
        "def des(num):\n",
        "  \n",
        "  sum = 0\n",
        "  temp = num\n",
        "  while temp > 0:\n",
        "    digit = temp % 10\n",
        "    sum += digit ** 2\n",
        "    temp //= 10\n",
        "  if num == sum:\n",
        "    print(num,\"is an desarium\")\n",
        "  else:\n",
        "    print(num,\"is not an desarium number\")"
      ],
      "execution_count": null,
      "outputs": []
    },
    {
      "cell_type": "code",
      "metadata": {
        "id": "4Y9ndqpDro_1",
        "colab": {
          "base_uri": "https://localhost:8080/"
        },
        "outputId": "e845220a-9d28-436d-d433-7cf50f858053"
      },
      "source": [
        "for i in range(1,101):\n",
        "  des(i)"
      ],
      "execution_count": null,
      "outputs": [
        {
          "output_type": "stream",
          "text": [
            "1 is an desarium\n",
            "2 is not an desarium number\n",
            "3 is not an desarium number\n",
            "4 is not an desarium number\n",
            "5 is not an desarium number\n",
            "6 is not an desarium number\n",
            "7 is not an desarium number\n",
            "8 is not an desarium number\n",
            "9 is not an desarium number\n",
            "10 is not an desarium number\n",
            "11 is not an desarium number\n",
            "12 is not an desarium number\n",
            "13 is not an desarium number\n",
            "14 is not an desarium number\n",
            "15 is not an desarium number\n",
            "16 is not an desarium number\n",
            "17 is not an desarium number\n",
            "18 is not an desarium number\n",
            "19 is not an desarium number\n",
            "20 is not an desarium number\n",
            "21 is not an desarium number\n",
            "22 is not an desarium number\n",
            "23 is not an desarium number\n",
            "24 is not an desarium number\n",
            "25 is not an desarium number\n",
            "26 is not an desarium number\n",
            "27 is not an desarium number\n",
            "28 is not an desarium number\n",
            "29 is not an desarium number\n",
            "30 is not an desarium number\n",
            "31 is not an desarium number\n",
            "32 is not an desarium number\n",
            "33 is not an desarium number\n",
            "34 is not an desarium number\n",
            "35 is not an desarium number\n",
            "36 is not an desarium number\n",
            "37 is not an desarium number\n",
            "38 is not an desarium number\n",
            "39 is not an desarium number\n",
            "40 is not an desarium number\n",
            "41 is not an desarium number\n",
            "42 is not an desarium number\n",
            "43 is not an desarium number\n",
            "44 is not an desarium number\n",
            "45 is not an desarium number\n",
            "46 is not an desarium number\n",
            "47 is not an desarium number\n",
            "48 is not an desarium number\n",
            "49 is not an desarium number\n",
            "50 is not an desarium number\n",
            "51 is not an desarium number\n",
            "52 is not an desarium number\n",
            "53 is not an desarium number\n",
            "54 is not an desarium number\n",
            "55 is not an desarium number\n",
            "56 is not an desarium number\n",
            "57 is not an desarium number\n",
            "58 is not an desarium number\n",
            "59 is not an desarium number\n",
            "60 is not an desarium number\n",
            "61 is not an desarium number\n",
            "62 is not an desarium number\n",
            "63 is not an desarium number\n",
            "64 is not an desarium number\n",
            "65 is not an desarium number\n",
            "66 is not an desarium number\n",
            "67 is not an desarium number\n",
            "68 is not an desarium number\n",
            "69 is not an desarium number\n",
            "70 is not an desarium number\n",
            "71 is not an desarium number\n",
            "72 is not an desarium number\n",
            "73 is not an desarium number\n",
            "74 is not an desarium number\n",
            "75 is not an desarium number\n",
            "76 is not an desarium number\n",
            "77 is not an desarium number\n",
            "78 is not an desarium number\n",
            "79 is not an desarium number\n",
            "80 is not an desarium number\n",
            "81 is not an desarium number\n",
            "82 is not an desarium number\n",
            "83 is not an desarium number\n",
            "84 is not an desarium number\n",
            "85 is not an desarium number\n",
            "86 is not an desarium number\n",
            "87 is not an desarium number\n",
            "88 is not an desarium number\n",
            "89 is not an desarium number\n",
            "90 is not an desarium number\n",
            "91 is not an desarium number\n",
            "92 is not an desarium number\n",
            "93 is not an desarium number\n",
            "94 is not an desarium number\n",
            "95 is not an desarium number\n",
            "96 is not an desarium number\n",
            "97 is not an desarium number\n",
            "98 is not an desarium number\n",
            "99 is not an desarium number\n",
            "100 is not an desarium number\n"
          ],
          "name": "stdout"
        }
      ]
    },
    {
      "cell_type": "code",
      "metadata": {
        "colab": {
          "base_uri": "https://localhost:8080/"
        },
        "id": "ujnPmITYtded",
        "outputId": "94a25dce-832c-4862-dd98-28c9175967c7"
      },
      "source": [
        "\n",
        "def numSquareSum(n):\n",
        "\tsquareSum = 0;\n",
        "\twhile(n):\n",
        "\t\tsquareSum += (n % 10) * (n % 10);\n",
        "\t\tn = int(n / 10);\n",
        "\treturn squareSum;\n",
        "\n",
        "def isHappynumber(n):\n",
        "\tslow = n;\n",
        "\tfast = n;\n",
        "\twhile(True):\n",
        "\t\n",
        "\t\tslow = numSquareSum(slow);\n",
        "\t\tfast = numSquareSum(numSquareSum(fast));\n",
        "\t\tif(slow != fast):\n",
        "\t\t\tcontinue;\n",
        "\t\telse:\n",
        "\t\t\tbreak;\n",
        "\n",
        "\n",
        "\treturn (slow == 1);\n",
        "\n",
        "\n",
        "n = 13;\n",
        "if (isHappynumber(n)):\n",
        "\tprint(n , \"is a Happy number\");\n",
        "else:\n",
        "\tprint(n , \"is not a Happy number\");\n",
        "\n"
      ],
      "execution_count": null,
      "outputs": [
        {
          "output_type": "stream",
          "text": [
            "13 is a Happy number\n"
          ],
          "name": "stdout"
        }
      ]
    },
    {
      "cell_type": "code",
      "metadata": {
        "colab": {
          "base_uri": "https://localhost:8080/"
        },
        "id": "1t0pogQitsVs",
        "outputId": "4fd66637-a4ef-4e7a-be49-a3a792bdc6f1"
      },
      "source": [
        "for i in range(1,101):\n",
        "  if (isHappynumber(i)):\n",
        "    print(i)\n",
        "  "
      ],
      "execution_count": null,
      "outputs": [
        {
          "output_type": "stream",
          "text": [
            "1\n",
            "7\n",
            "10\n",
            "13\n",
            "19\n",
            "23\n",
            "28\n",
            "31\n",
            "32\n",
            "44\n",
            "49\n",
            "68\n",
            "70\n",
            "79\n",
            "82\n",
            "86\n",
            "91\n",
            "94\n",
            "97\n",
            "100\n"
          ],
          "name": "stdout"
        }
      ]
    },
    {
      "cell_type": "code",
      "metadata": {
        "colab": {
          "base_uri": "https://localhost:8080/"
        },
        "id": "77wnrfxzuXYb",
        "outputId": "a4c465c2-5816-4ed4-820f-adeaeb075290"
      },
      "source": [
        "\n",
        "def checkHarshad( n ) :\n",
        "\tsum = 0\n",
        "\ttemp = n\n",
        "\twhile temp > 0 :\n",
        "\t\tsum = sum + temp % 10\n",
        "\t\ttemp = temp // 10\n",
        "\treturn n % sum == 0\n",
        "\n",
        "\n",
        "if(checkHarshad(12)) : print(\"Yes\")\n",
        "else : print (\"No\")\n",
        "\n",
        "if (checkHarshad(15)) : print(\"Yes\")\n",
        "else : print (\"No\")\n",
        "\t\n"
      ],
      "execution_count": null,
      "outputs": [
        {
          "output_type": "stream",
          "text": [
            "Yes\n",
            "No\n"
          ],
          "name": "stdout"
        }
      ]
    },
    {
      "cell_type": "code",
      "metadata": {
        "colab": {
          "base_uri": "https://localhost:8080/"
        },
        "id": "QajF5eIMvzes",
        "outputId": "8b263631-ab87-4728-805d-a62423f54c6d"
      },
      "source": [
        "for i in range(1,101):\n",
        "  if(checkHarshad(i)):\n",
        "    print(i)"
      ],
      "execution_count": null,
      "outputs": [
        {
          "output_type": "stream",
          "text": [
            "1\n",
            "2\n",
            "3\n",
            "4\n",
            "5\n",
            "6\n",
            "7\n",
            "8\n",
            "9\n",
            "10\n",
            "12\n",
            "18\n",
            "20\n",
            "21\n",
            "24\n",
            "27\n",
            "30\n",
            "36\n",
            "40\n",
            "42\n",
            "45\n",
            "48\n",
            "50\n",
            "54\n",
            "60\n",
            "63\n",
            "70\n",
            "72\n",
            "80\n",
            "81\n",
            "84\n",
            "90\n",
            "100\n"
          ],
          "name": "stdout"
        }
      ]
    }
  ]
}